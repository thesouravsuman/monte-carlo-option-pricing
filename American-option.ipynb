{
 "cells": [
  {
   "cell_type": "code",
   "execution_count": 1,
   "metadata": {},
   "outputs": [],
   "source": [
    "import numpy as np\n",
    "from utilities import (simulate_gbm, black_scholes_analytical, lsmc_american_option)"
   ]
  },
  {
   "cell_type": "code",
   "execution_count": 2,
   "metadata": {},
   "outputs": [],
   "source": [
    "S_0 = 36\n",
    "K = 40\n",
    "r = 0.06\n",
    "sigma = 0.2\n",
    "T = 1 # 1 year\n",
    "N = 50 \n",
    "dt = T / N \n",
    "N_SIMS = 10 ** 5 \n",
    "discount_factor = np.exp(-r * dt)\n",
    "OPTION_TYPE = 'put'\n",
    "POLY_DEGREE = 5"
   ]
  },
  {
   "cell_type": "code",
   "execution_count": 3,
   "metadata": {},
   "outputs": [],
   "source": [
    "gbm_sims = simulate_gbm(s_0=S_0, mu=r, sigma=sigma, n_sims=N_SIMS, \n",
    "                        T=T, N=N)"
   ]
  },
  {
   "cell_type": "code",
   "execution_count": 4,
   "metadata": {},
   "outputs": [],
   "source": [
    "payoff_matrix = np.maximum(K - gbm_sims, np.zeros_like(gbm_sims))"
   ]
  },
  {
   "cell_type": "code",
   "execution_count": 5,
   "metadata": {},
   "outputs": [],
   "source": [
    "value_matrix = np.zeros_like(payoff_matrix)\n",
    "value_matrix[:, -1] = payoff_matrix[:, -1]"
   ]
  },
  {
   "cell_type": "code",
   "execution_count": 6,
   "metadata": {},
   "outputs": [],
   "source": [
    "for t in range(N - 1, 0 , -1):\n",
    "    regression = np.polyfit(gbm_sims[:, t], \n",
    "                            value_matrix[:, t + 1] * discount_factor, \n",
    "                            POLY_DEGREE)\n",
    "    continuation_value = np.polyval(regression, gbm_sims[:, t])\n",
    "    value_matrix[:, t] = np.where(\n",
    "        payoff_matrix[:, t] > continuation_value,\n",
    "        payoff_matrix[:, t],\n",
    "        value_matrix[:, t + 1] * discount_factor\n",
    "    )"
   ]
  },
  {
   "cell_type": "code",
   "execution_count": 7,
   "metadata": {},
   "outputs": [
    {
     "name": "stdout",
     "output_type": "stream",
     "text": [
      "The premium on the specified American put option is 4.465\n"
     ]
    }
   ],
   "source": [
    "option_premium = np.mean(value_matrix[:, 1] * discount_factor)\n",
    "print(f'The premium on the specified American {OPTION_TYPE} option is {option_premium:.3f}')"
   ]
  },
  {
   "cell_type": "code",
   "execution_count": null,
   "metadata": {},
   "outputs": [],
   "source": []
  }
 ],
 "metadata": {
  "kernelspec": {
   "display_name": "Python 3",
   "language": "python",
   "name": "python3"
  },
  "language_info": {
   "codemirror_mode": {
    "name": "ipython",
    "version": 3
   },
   "file_extension": ".py",
   "mimetype": "text/x-python",
   "name": "python",
   "nbconvert_exporter": "python",
   "pygments_lexer": "ipython3",
   "version": "3.7.4"
  }
 },
 "nbformat": 4,
 "nbformat_minor": 4
}
